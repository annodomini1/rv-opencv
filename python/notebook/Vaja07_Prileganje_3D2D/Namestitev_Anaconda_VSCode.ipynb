{
 "cells": [
  {
   "cell_type": "markdown",
   "metadata": {},
   "source": [
    "Before you turn this problem in, make sure everything runs as expected. First, **restart the kernel** (in the menubar, select Kernel$\\rightarrow$Restart) and then **run all cells** (in the menubar, select Cell$\\rightarrow$Run All).\n",
    "\n",
    "Make sure you fill in any place that says `YOUR CODE HERE` or \"YOUR ANSWER HERE\", as well as your name and collaborators below:"
   ]
  },
  {
   "cell_type": "code",
   "execution_count": null,
   "metadata": {},
   "outputs": [],
   "source": [
    "NAME = \"\"\n",
    "COLLABORATORS = \"\""
   ]
  },
  {
   "cell_type": "markdown",
   "metadata": {},
   "source": [
    "---"
   ]
  },
  {
   "cell_type": "markdown",
   "metadata": {},
   "source": [
    "# Navodila za namestitev knjižnice Anaconda in razvojnega okolja VS Code\n",
    "## Namestitev knjižnice Anaconda\n",
    "\n",
    "1. Prenesite namestitveno datoteko knjižnice Anaconda iz spletne strani https://www.anaconda.com/distribution/#download-section. Izberite datoteko ustrezno vašemu operacijskemu sistemu. Knjižnica je na voljo za sisteme Windows, macOS in Linux.\n",
    "2. Zaženite namestitveno datoteko.\n",
    "3. Sledite čarovniku. (Če nameščate knjižnico na računalnik v predavalnici P18 izberite namestitveno lokacijo `C:\\temp\\`. Če boste knjižnico namestili v eno od podmap uporabniškega računa bo prijava v vaš uporabniški račun lahko trajala tudi več kot eno uro.)"
   ]
  },
  {
   "cell_type": "markdown",
   "metadata": {},
   "source": [
    "## Namestitev razvojnega okolja VS Code\n",
    "### Windows\n",
    "Začetni koraki namestitve se nekoliko razlikujejo glede na to ali ima vaš uporabniški račun administratorske pravice, ali pripada zgolj skupini navadnih uporabikov. Če ste navadni uporabnik brez administratorskih pravic (npr. računalniki v P18), sledite naslednjim korakom:\n",
    "1. S spletne strani https://code.visualstudio.com/#alt-downloads prenesite datoteko .zip ali .tar.gz za vaš operacijski sistem. Glede na razpoložljivo strojno opremo izberite 32 ali 64-bitno različico.\n",
    "2. Razširite preneseno .zip datoteko v izbrano mapo. V učilnici P18 lahko .zip ali .tar.gz datoteko razširite v podmape svojega računa ali pa v mapo `c:\\temp\\`.\n",
    "3. V razširjeni mapi, ki vsebuje datoteko ”Code.exe” ustvarite mapo ”data”. Ta korak je nujno potreben za delovanje Visual Studio Code brez administratorskih pravic.\n",
    "4. Po namestitvi lahko Visual Studio Code zaženemo s pomocjo datoteke ”Code.exe” v izbrani namestitveni mapi.\n",
    "\n",
    "Če razpolagate z uporabniškim računom, ki ima administratorske pravice (npr. na svojem prenosniku), pa sledite sledečim korakom.\n",
    "1. S spletne strani https://code.visualstudio.com/#alt-downloads prenesite datoteko ”System Installer” ali ”User installer”. Prva bo namestila Visual Studio Code za vse uporabnike, druga pa samo za trenutnega uporabnika. Glede na razpoložljivo strojno opremo izberite 32 ali 64-bitno različico.\n",
    "2. Odprite/poženite preneseno datoteko in sledite namestitvenemu čarovniku.\n",
    "3. Po namestitvi lahko Visual Studio Code zaženemo iz namizja, zagonske vrstice ali pa s pomočjo datoteke ”Code.exe” v namestitveni mapi (obicajno ”C:\\Program Files\\Microsoft VS Code\\”).\n",
    "\n",
    "### Ubuntu\n",
    "1. S spletne strani https://code.visualstudio.com/#alt-downloads prenesite datoteko .deb. Glede na razpoložljivo strojno opremo izberite 32 ali 64-bitno razlicico. Prenesena datoteka bo na razpolago v mapi ”~/Downloads”.\n",
    "2. Nato odpremo terminal in se najprej prestavimo v mapo ”~/Downloads” s preneseno .deb datoteko ter izvedemo namestitev tako, da nadomestimo ime_datoteke.deb z dejanskim imenom prenesene datoteke.\n",
    "```bash\n",
    "cd ~/ Downloads\n",
    "dpkg -i ime_datoteke.deb\n",
    "```\n",
    "3. Grafično razvojno okolje Visual Studio Code lahko sedaj zaženemo iz zagonske vrstice, kjer poišcemo ”code” ali pa kar iz terminala, saj opisana namestitev doda Visual Studio Code v sistemsko pot."
   ]
  },
  {
   "cell_type": "markdown",
   "metadata": {},
   "source": [
    "## Konfiguracija okolja VS Code\n",
    "* Po prvem zagonu Visual Studio Code je potrebno namestiti še razširitev za enostavnejše delo s Python datotekami. Do namestitvenega okna pridemo s pomočjo zadnje velike ikone v levi orodni vrstici ali pa s kombinacijo tipk <kbd>Ctrl</kbd> + <kbd>Shift</kbd> + <kbd>X</kbd>. Nato poiščemo in namestimo razširitev Python ponudnika Microsoft.\n",
    "* S kombinacijo tipk <kbd>Ctrl</kbd> + <kbd>Shift</kbd> + <kbd>P</kbd> odprete ukazno vrstico \"Command palette\", kjer izberete pravilni Python interpreter \n",
    "\n",
    "![Interpreter](images/Namestitev_interpreter.png) \n",
    "\n",
    "![Interpreter Anaconda](images/Namestitev_interpreter2.png)\n",
    "\n",
    "* Kodo lahko lahko poganjate in razhroščujete v Debug načinu, ki ga odprete s klikom na hrošča: \n",
    "\n",
    "![Debug](images/Namestitev_razhroscevanje.png)\n",
    "\n",
    "* Konfiguracije Debug načina lahko izbirate in nastavljate preko vmesnika prikazanega na spodnji sliki \n",
    "\n",
    "![Debug config](images/Namestitev_debug_config.png)\n",
    "\n",
    "* Več informacij o delovanju okolja VS Code dobite na spletni strani https://code.visualstudio.com/docs/languages/python"
   ]
  }
 ],
 "metadata": {
  "kernelspec": {
   "display_name": "Python 3",
   "language": "python",
   "name": "python3"
  },
  "language_info": {
   "codemirror_mode": {
    "name": "ipython",
    "version": 3
   },
   "file_extension": ".py",
   "mimetype": "text/x-python",
   "name": "python",
   "nbconvert_exporter": "python",
   "pygments_lexer": "ipython3",
   "version": "3.6.8"
  }
 },
 "nbformat": 4,
 "nbformat_minor": 2
}
