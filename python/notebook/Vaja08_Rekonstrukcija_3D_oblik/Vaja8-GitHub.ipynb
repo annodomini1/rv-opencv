{
 "cells": [
  {
   "cell_type": "markdown",
   "metadata": {},
   "source": [
    "Before you turn this problem in, make sure everything runs as expected. First, **restart the kernel** (in the menubar, select Kernel$\\rightarrow$Restart) and then **run all cells** (in the menubar, select Cell$\\rightarrow$Run All).\n",
    "\n",
    "Make sure you fill in any place that says `YOUR CODE HERE` or \"YOUR ANSWER HERE\", as well as your name and collaborators below:"
   ]
  },
  {
   "cell_type": "code",
   "execution_count": null,
   "metadata": {},
   "outputs": [],
   "source": [
    "NAME = \"\"\n",
    "COLLABORATORS = \"\""
   ]
  },
  {
   "cell_type": "markdown",
   "metadata": {},
   "source": [
    "---"
   ]
  },
  {
   "cell_type": "markdown",
   "metadata": {},
   "source": [
    "# Delo z GitHub platformo\n",
    "## Ustvarjanje novega računa\n",
    "https://github.com/\n",
    "## Ustvarjanje novega repozitorija\n",
    "* S klikom na gumb New ustvarite nov repozitorij\n",
    "\n",
    "![Nov repo](images/Ustvari_nov_repo.png)\n",
    "\n",
    "* Skopirajte naslov repozitorija (preverite, da kopirate **HTTPS** naslov in ne SSH naslova):\n",
    "\n",
    "![Naslov](images/Naslov_repo.png)\n",
    "\n",
    "* Na lokalnem računalniku poženite ukaz: \n",
    " `git clone git@github.com:***/***.git`\n",
    "* Odprite datoteko `README.md` v programu VS Code\n",
    "* Dodajte kratek opis projekta\n",
    "* Poženite ukaz:\n",
    " `git stage README.md`, da pripravite datoteko za commit\n",
    "* Poženite ukaz:\n",
    " `git commit -m \"Dodan opis projekta\"`, da naredite commit\n",
    "* Poženite ukaz: `git push`, da pošljete spremembe na GitHub strežnik\n",
    "* Preverite, da so se spremembe pojavile na GitHub strežniku"
   ]
  }
 ],
 "metadata": {
  "kernelspec": {
   "display_name": "Python 3",
   "language": "python",
   "name": "python3"
  },
  "language_info": {
   "codemirror_mode": {
    "name": "ipython",
    "version": 3
   },
   "file_extension": ".py",
   "mimetype": "text/x-python",
   "name": "python",
   "nbconvert_exporter": "python",
   "pygments_lexer": "ipython3",
   "version": "3.6.8"
  }
 },
 "nbformat": 4,
 "nbformat_minor": 2
}
